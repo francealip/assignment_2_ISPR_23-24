{
 "cells": [
  {
   "cell_type": "markdown",
   "metadata": {},
   "source": [
    "<h2>ASSIGNMENT 4: bayesian network from scratch<h2>\n",
    "\n",
    "<h4><b>Author</b>: Aliprandi Francesco<h4>\n"
   ]
  },
  {
   "cell_type": "markdown",
   "metadata": {},
   "source": [
    "<h4><b>1.1 Class Node</b></h4>\n",
    "\n",
    "This class implement the logic of a node inside a bayesian network.\n",
    "\n",
    "<b>Constructur</b>\n",
    "\n",
    "the constructur of the class take as input:\n",
    "- the name of the node as a string\n",
    "- the list of the values that the node could assume as list of string\n",
    "- the list of parents of the node as a list of Node objects\n",
    "- the conditional probability table of the node (cpt)\n",
    "the constructure sort all the keys of the cpt locally to have a unique order for those keys as they are tuples\n",
    "\n",
    "<b>Conditional probability table</b> \n",
    "\n",
    "the cpt is organized as follows:\n",
    "- for nodes without parents it's a dictionary in which the key are the values that the node could assume and the values are the probability of the node to assume that value\n",
    "- for a binary node with parents dictionary keys are tuples in which the entry are strings \"name of the parent\"+\"_\"+\"value of the parent\" and the values are the probability of the node to be true \n",
    "- for a multinomial node with parents dictionary keys are tuples constructed as before but within the tuple is added the value \"current node name\" + \"_\" + \"value taking node\" and the corresponding value is the probability of the node to assume the value given the parents assumes the values specified into the tuple\n",
    "\n",
    "Last two cases (binary and multinomial node with parents) could both be represented in the same way by employing the notation used for the multinomial but the binary version could halve the dimension of the cpt.\n",
    "\n",
    "<b> Class methods</b>\n",
    "\n",
    "- <b> Sample value:</b> this method sample a value for the node. It takes as input a list of strings that represents parents and respective values assigned in the sampling so far. This function distinguish three cases of a node without parents, a binomial node with parents and a multinomial node with parents. It returns the sampled value for the current node.\n",
    "- <b> Get sample:</b> is a support function that prepare the list of parent with respective value if needed by extracting the value on the sampling done so far"
   ]
  },
  {
   "cell_type": "code",
   "execution_count": 68,
   "metadata": {},
   "outputs": [],
   "source": [
    "import numpy as np\n",
    "import random\n",
    "\n",
    "class Node:   \n",
    "    def __init__(self, name, values, parents, table):\n",
    "        self.name: str = name\n",
    "        self.values: list = values\n",
    "        self.parents: list = parents\n",
    "        #to ensure parents sorted in CPTs\n",
    "        if len(self.parents) != 0:\n",
    "            self.table: dict = {tuple(sorted(k)): v for k, v in table.items()}\n",
    "        else:\n",
    "            self.table: dict = table\n",
    "    \n",
    "    def get_name(self):\n",
    "        return self.name\n",
    "    \n",
    "    def get_values(self):\n",
    "        return self.values\n",
    "    \n",
    "    def get_parents(self):\n",
    "        return self.parents\n",
    "    \n",
    "    def get_table(self):\n",
    "        return self.table\n",
    "    \n",
    "    def sample_value(self, parent_values):\n",
    "        #if node has no parents\n",
    "        if(len(parent_values) == 0):\n",
    "            values = list(self.table.keys())\n",
    "            prob = list(self.table.values())\n",
    "            return np.random.choice(values, p=prob)\n",
    "        #if node has parents and it's binomial\n",
    "        elif len(self.values) == 2:\n",
    "            values = [\"True\", \"False\"]\n",
    "            key = tuple(sorted(parent_values))\n",
    "            prob = self.table[key]\n",
    "            prob = [prob, 1-prob]\n",
    "            return np.random.choice(values, p=prob)\n",
    "        #if node has parents and it's multinomial\n",
    "        else:\n",
    "            keys = []\n",
    "            values = []\n",
    "            for value in self.values:\n",
    "                keys.append(tuple(sorted(parent_values + [self.name + \"_\" + value])))\n",
    "            prob = []\n",
    "            for key in keys:\n",
    "                prob.append(self.table[key])\n",
    "            return np.random.choice(self.values, p=prob)\n",
    "                \n",
    "    def get_sample(self, sampling):\n",
    "        #if node has no parents\n",
    "        if(len(self.parents) == 0):\n",
    "            return self.sample_value([])\n",
    "        #if node has parents\n",
    "        parents_value = []\n",
    "        for node in sampling.keys():\n",
    "            for parent in self.parents:\n",
    "                if node == parent.get_name():\n",
    "                    parents_value.append(node + \"_\" + sampling[node])\n",
    "        return self.sample_value(sorted(parents_value))\n",
    "               \n",
    "        "
   ]
  },
  {
   "cell_type": "markdown",
   "metadata": {},
   "source": [
    "<h4><b>1.2 Class Network</b></h4>\n",
    "\n",
    "This class implement the logic of the network. The network is implemented as a list of Nodes\n",
    "\n",
    "<b>Constructur</b>\n",
    "\n",
    "The constructur of the class take as input the list of nodes to be stored and reorders the nodes following a valid topological ordering \n",
    "\n",
    "<b> Class methods</b>\n",
    "\n",
    "- <b> Topological sort:</b> performs topological sorting of nodes by executing a DFS visit of the graph\n",
    "- <b> Ancestral sampling:</b> perform an ancestral sampling by scanning the nodes in order and sampling one value at a time. "
   ]
  },
  {
   "cell_type": "code",
   "execution_count": 69,
   "metadata": {},
   "outputs": [],
   "source": [
    "class Network:\n",
    "    def __init__(self, nodes):\n",
    "        self.nodes: list = nodes\n",
    "        #random.shuffle(self.nodes)\n",
    "        self.nodes = self.topological_sort()\n",
    "            \n",
    "    def get_nodes(self):    \n",
    "        return self.nodes\n",
    "    \n",
    "    def topological_sort(self):\n",
    "        visited = set()\n",
    "        stack = []\n",
    "\n",
    "        def dfs(node):\n",
    "            visited.add(node)\n",
    "            for parent in node.parents:\n",
    "                if parent not in visited:\n",
    "                    dfs(parent)\n",
    "            stack.append(node)\n",
    "    \n",
    "        for node in self.nodes:\n",
    "            if node not in visited:\n",
    "                dfs(node)\n",
    "        return stack\n",
    "        \n",
    "    \n",
    "    def ancestral_sampling(self):\n",
    "        sampling = {}\n",
    "        for node in self.nodes:\n",
    "            value = node.get_sample(sampling)\n",
    "            sampling[node.get_name()] = value          \n",
    "        return sampling"
   ]
  },
  {
   "cell_type": "markdown",
   "metadata": {},
   "source": [
    "<h4><b>1.3 Test set up</b></h4>"
   ]
  },
  {
   "cell_type": "markdown",
   "metadata": {},
   "source": [
    "The bayesian networks considered for the test is created following the scheme shown in the figure below. \n",
    "\n",
    "Two networks were created to perform the tests: \n",
    "- one that models the power-on of an old car \n",
    "- one that models the power-on of a new car. \n",
    "\n",
    "Both this networks have the same structure, but the probabilities that the components are working change.\n",
    "\n",
    "Finally, to assess sampling in the multinomial node case with parents (that in the network is not present), a small 3x3 network was created that models only the car battery.\n",
    "\n",
    "<img src=\"./image/bnet.png\" alt=\"car ignition network\" width=460 height=230>\n",
    "\n"
   ]
  },
  {
   "cell_type": "markdown",
   "metadata": {},
   "source": [
    "<h4><b>1.3.1 Support functions and data structure for testing</b></h4>"
   ]
  },
  {
   "cell_type": "code",
   "execution_count": 70,
   "metadata": {},
   "outputs": [],
   "source": [
    "#support function for testing a car network\n",
    "def test_car(net,n):\n",
    "    c = 0\n",
    "    for i in range(n):\n",
    "        sampling = net.ancestral_sampling()\n",
    "        if(sampling[\"Engine\"] == \"True\"):\n",
    "            c+=1\n",
    "    return \" starts \" + str(round(c/n*100,1)) + \" % of the time\""
   ]
  },
  {
   "cell_type": "code",
   "execution_count": 71,
   "metadata": {},
   "outputs": [],
   "source": [
    "#creating old car network\n",
    "alternator = Node(\"Alternator\", [\"New\", \"Worn\",\"broken\"], [], {\"New\": 0.3, \"Worn\": 0.55, \"Broken\": 0.15})\n",
    "fanbelt = Node(\"Fanbelt\", [\"True\", \"False\"], [], {\"True\": 0.69, \"False\": 0.31})\n",
    "starter = Node(\"Starter\", [\"True\", \"False\"], [], {\"True\": 0.77, \"False\": 0.23})\n",
    "sparks = Node(\"Sparks\", [\"True\", \"False\"], [], {\"True\": 0.78, \"False\": 0.22})\n",
    "fuel_pump = Node(\"Fuel_pump\", [\"True\", \"False\"], [], {\"True\": 0.77, \"False\": 0.23})\n",
    "fuel_level = Node(\"Fuel_level\", [\"Low\", \"Normal\", \"High\"], [], {\"Low\": 0.1, \"Normal\": 0.8, \"High\": 0.1})\n",
    "\n",
    "battery = Node(\"Battery\", [\"True\", \"False\"], [alternator, fanbelt], {(\"Alternator_New\",\"Fanbelt_True\"): 0.85, (\"Alternator_New\",\"Fanbelt_False\"): 0.27, (\"Alternator_Worn\",\"Fanbelt_True\"): 0.73, (\"Alternator_Worn\",\"Fanbelt_False\"): 0.24, (\"Alternator_Broken\",\"Fanbelt_True\"): 0.52, (\"Alternator_Broken\",\"Fanbelt_False\"): 0.11})\n",
    "dashboard = Node(\"Dashboard\", [\"True\",\"False\"], [battery, starter], {(\"Battery_True\",\"Starter_True\"): 0.92, (\"Battery_True\",\"Starter_False\"): 0.15, (\"Battery_False\",\"Starter_True\"): 0.2, (\"Battery_False\",\"Starter_False\"): 0.08})\n",
    "fuel_subsystem = Node(\"Fuel_subsystem\", [\"True\", \"False\"], [fuel_pump, fuel_level], {(\"Fuel_level_High\", \"Fuel_pump_True\"): 0.88, (\"Fuel_level_High\", \"Fuel_pump_False\"): 0.12, (\"Fuel_level_Normal\", \"Fuel_pump_True\"): 0.9, (\"Fuel_level_Normal\", \"Fuel_pump_False\"): 0.18, (\"Fuel_level_Low\", \"Fuel_pump_True\"): 0.79, (\"Fuel_level_Low\", \"Fuel_pump_False\"): 0.11})\n",
    "engine = Node(\"Engine\", [\"True\", \"False\"], [dashboard, sparks, fuel_subsystem], {(\"Dashboard_True\", \"Fuel_subsystem_True\", \"Sparks_True\"): 0.92, (\"Dashboard_True\", \"Fuel_subsystem_True\", \"Sparks_False\"): 0.04, (\"Dashboard_True\", \"Fuel_subsystem_False\", \"Sparks_True\"): 0.38, (\"Dashboard_True\", \"Fuel_subsystem_False\", \"Sparks_False\"): 0.02, (\"Dashboard_False\", \"Fuel_subsystem_True\", \"Sparks_True\"): 0.44, (\"Dashboard_False\", \"Fuel_subsystem_True\", \"Sparks_False\"): 0.03, (\"Dashboard_False\", \"Fuel_subsystem_False\", \"Sparks_True\"): 0.07, (\"Dashboard_False\", \"Fuel_subsystem_False\", \"Sparks_False\"): 0.01})\n",
    "\n",
    "old_car = Network([alternator, fanbelt, starter, sparks, fuel_pump, fuel_level, battery, dashboard, fuel_subsystem, engine])\n",
    "\n",
    "old_car_result = test_car(old_car, 10000)"
   ]
  },
  {
   "cell_type": "code",
   "execution_count": 72,
   "metadata": {},
   "outputs": [],
   "source": [
    "#creating new car network\n",
    "alternator = Node(\"Alternator\", [\"New\", \"Worn\",\"broken\"], [], {\"New\": 0.9, \"Worn\": 0.08, \"Broken\": 0.02})\n",
    "fanbelt = Node(\"Fanbelt\", [\"True\", \"False\"], [], {\"True\": 0.96, \"False\": 0.04})\n",
    "starter = Node(\"Starter\", [\"True\", \"False\"], [], {\"True\": 0.95, \"False\": 0.05})\n",
    "sparks = Node(\"Sparks\", [\"True\", \"False\"], [], {\"True\": 0.93, \"False\": 0.07})\n",
    "fuel_pump = Node(\"Fuel_pump\", [\"True\", \"False\"], [], {\"True\": 0.93, \"False\": 0.07})\n",
    "fuel_level = Node(\"Fuel_level\", [\"Low\", \"Normal\", \"High\"], [], {\"Low\": 0.15, \"Normal\": 0.8, \"High\": 0.05})\n",
    "\n",
    "battery = Node(\"Battery\", [\"True\", \"False\"], [alternator, fanbelt], {(\"Alternator_New\",\"Fanbelt_True\"): 0.95, (\"Alternator_New\",\"Fanbelt_False\"): 0.44, (\"Alternator_Worn\",\"Fanbelt_True\"): 0.88, (\"Alternator_Worn\",\"Fanbelt_False\"): 0.37, (\"Alternator_Broken\",\"Fanbelt_True\"): 0.55, (\"Alternator_Broken\",\"Fanbelt_False\"): 0.18})\n",
    "dashboard = Node(\"Dashboard\", [\"True\",\"False\"], [battery, starter], {(\"Battery_True\",\"Starter_True\"): 0.98, (\"Battery_True\",\"Starter_False\"): 0.33, (\"Battery_False\",\"Starter_True\"): 0.22, (\"Battery_False\",\"Starter_False\"): 0.09})\n",
    "fuel_subsystem = Node(\"Fuel_subsystem\", [\"True\", \"False\"], [fuel_pump, fuel_level], {(\"Fuel_level_High\", \"Fuel_pump_True\"): 0.96, (\"Fuel_level_High\", \"Fuel_pump_False\"): 0.12, (\"Fuel_level_Normal\", \"Fuel_pump_True\"): 0.95, (\"Fuel_level_Normal\", \"Fuel_pump_False\"): 0.09, (\"Fuel_level_Low\", \"Fuel_pump_True\"): 0.88, (\"Fuel_level_Low\", \"Fuel_pump_False\"): 0.11})\n",
    "engine = Node(\"Engine\", [\"True\", \"False\"], [dashboard, sparks, fuel_subsystem], {(\"Dashboard_True\", \"Fuel_subsystem_True\", \"Sparks_True\"): 0.99, (\"Dashboard_True\", \"Fuel_subsystem_True\", \"Sparks_False\"): 0.04, (\"Dashboard_True\", \"Fuel_subsystem_False\", \"Sparks_True\"): 0.37, (\"Dashboard_True\", \"Fuel_subsystem_False\", \"Sparks_False\"): 0.02, (\"Dashboard_False\", \"Fuel_subsystem_True\", \"Sparks_True\"): 0.67, (\"Dashboard_False\", \"Fuel_subsystem_True\", \"Sparks_False\"): 0.03, (\"Dashboard_False\", \"Fuel_subsystem_False\", \"Sparks_True\"): 0.07, (\"Dashboard_False\", \"Fuel_subsystem_False\", \"Sparks_False\"): 0.01})\n",
    "\n",
    "new_car = Network([alternator, fanbelt, starter, sparks, fuel_pump, fuel_level, battery, dashboard, fuel_subsystem, engine])\n",
    "new_car_result = test_car(new_car, 10000)"
   ]
  },
  {
   "cell_type": "markdown",
   "metadata": {},
   "source": [
    "<h4><b>1.4 Test results</b></h4>\n"
   ]
  },
  {
   "cell_type": "markdown",
   "metadata": {},
   "source": [
    "Example of ancestor sampling applied to the network of the old car.\n",
    "As is it possible to observe <b>Alternator</b> is warn and Fanbelt is not working so is more likely that <b>Battery</b> is not charged (and so it is). Given that the <b>Starter</b> is working and the <b>Battery</b> is not working it's very unlikely that the <b>Dashboard</b> will turn on, and in fact the value sampled for <b>Dashboard</b> is false. \n",
    "<b>Fuel subsystem</b> works as the <b>Fuel pump</b> works and <b>Fuel level</b> is normal. \n",
    "\n",
    "Since the <b>Spark</b> plugs works, the <b>Fuel subsystem</b> works and the <b>Dashboard</b> is turned off the probability of the car to start is 44% and in this case the car's <b>Engine</b> turns on\n"
   ]
  },
  {
   "cell_type": "code",
   "execution_count": 73,
   "metadata": {},
   "outputs": [
    {
     "data": {
      "text/plain": [
       "{'Alternator': 'Worn',\n",
       " 'Fanbelt': 'False',\n",
       " 'Starter': 'True',\n",
       " 'Sparks': 'True',\n",
       " 'Fuel_pump': 'True',\n",
       " 'Fuel_level': 'Normal',\n",
       " 'Battery': 'False',\n",
       " 'Dashboard': 'False',\n",
       " 'Fuel_subsystem': 'True',\n",
       " 'Engine': 'True'}"
      ]
     },
     "execution_count": 73,
     "metadata": {},
     "output_type": "execute_result"
    }
   ],
   "source": [
    "#example of sampling \n",
    "old_car.ancestral_sampling()\n",
    "\n",
    "\"\"\"\n",
    "This sampling value is saved as if I accidentally run the cell above, I dont't have to comment on it again\n",
    "{'Alternator': 'Worn',\n",
    " 'Fanbelt': 'False',\n",
    " 'Starter': 'True',\n",
    " 'Sparks': 'True',\n",
    " 'Fuel_pump': 'True',\n",
    " 'Fuel_level': 'Normal',\n",
    " 'Battery': 'False',\n",
    " 'Dashboard': 'False',\n",
    " 'Fuel_subsystem': 'True',\n",
    " 'Engine': 'True'}\n",
    " \"\"\""
   ]
  },
  {
   "cell_type": "markdown",
   "metadata": {},
   "source": [
    "These two tests asses the probability of the machine's engine turning on, in the case of both an old and a new machine, over 10'000 attempts to turn it on.\n",
    "The two machines have the same network topology, what changes are the various probabilities of individual components working.\n",
    "In the case of the old machine, the engine turns on in 44.3% of cases, while in the case of the new machine it turns on in 82.7% of cases. \n",
    "This significant difference in the ignition rate between the old and the new machine suggests that there are substantial differences in the performance of the engines of the two machines. This is surely due to wear and tear and the state of maintenance of the components of the older vehicle. These circumstances are modeled through the probability of functioning of the various components. As suggested by the results the more defective the parts the greater the gap in the ignition probability of the two vehicles. "
   ]
  },
  {
   "cell_type": "code",
   "execution_count": 74,
   "metadata": {},
   "outputs": [
    {
     "name": "stdout",
     "output_type": "stream",
     "text": [
      "Old car starts 44.3 % of the time\n",
      "New car starts 82.7 % of the time\n"
     ]
    }
   ],
   "source": [
    "#esults of sampling for old and new car networks \n",
    "print(\"Old car\" + old_car_result)\n",
    "print(\"New car\" + new_car_result)"
   ]
  },
  {
   "cell_type": "code",
   "execution_count": 75,
   "metadata": {},
   "outputs": [],
   "source": [
    "#Testing multinomial node with parents:\n",
    "alternator = Node(\"Alternator\", [\"True\", \"False\"], [], {\"True\": 0.93, \"False\": 0.07})\n",
    "fanbelt = Node(\"Fanbelt\", [\"True\", \"False\"], [], {\"True\": 0.96, \"False\": 0.04})\n",
    "\n",
    "battery = Node(\"Battery\", [\"Full\", \"Empty\", \"Half\"], [alternator, fanbelt], {(\"Alternator_True\",\"Fanbelt_True\",\"Battery_Full\"): 0.35, (\"Alternator_True\",\"Fanbelt_True\",\"Battery_Half\"): 0.6, (\"Alternator_True\",\"Fanbelt_True\",\"Battery_Empty\"): 0.05,\n",
    "                                                                              (\"Alternator_True\",\"Fanbelt_False\",\"Battery_Full\"): 0.2, (\"Alternator_True\",\"Fanbelt_False\",\"Battery_Half\"): 0.70, (\"Alternator_True\",\"Fanbelt_False\",\"Battery_Empty\"): 0.1,\n",
    "                                                                              (\"Alternator_False\",\"Fanbelt_True\",\"Battery_Full\"): 0.15, (\"Alternator_False\",\"Fanbelt_True\",\"Battery_Half\"): 0.62, (\"Alternator_False\",\"Fanbelt_True\",\"Battery_Empty\"): 0.23,\n",
    "                                                                              (\"Alternator_False\",\"Fanbelt_False\",\"Battery_Full\"): 0.05, (\"Alternator_False\",\"Fanbelt_False\",\"Battery_Half\"): 0.32, (\"Alternator_False\",\"Fanbelt_False\",\"Battery_Empty\"): 0.63})\n",
    "\n",
    "battery_net = Network([alternator, fanbelt, battery])"
   ]
  },
  {
   "cell_type": "markdown",
   "metadata": {},
   "source": [
    "Since in the Bayesian network I have created the case of nodes with multinomial distribution with parents does not occur, I have given here a simple example of a network consisting of three nodes representing car battery charge but with multinomial distribution.\n",
    "In this case the probability that the alternator and fanbelt are both working is very high and as reported by running on 1000 random samples the battery is 93.4% of the cases charged and only 6.6% of the cases discharged\n"
   ]
  },
  {
   "cell_type": "code",
   "execution_count": 81,
   "metadata": {},
   "outputs": [
    {
     "name": "stdout",
     "output_type": "stream",
     "text": [
      "battery is full 32.6 % of the time\n",
      "battery is half full 60.8 % of the time\n",
      "battery is empty 6.6 % of the time\n"
     ]
    }
   ],
   "source": [
    "f = 0\n",
    "e = 0\n",
    "h = 0\n",
    "for i in range(1000):\n",
    "    sampling = battery_net.ancestral_sampling()\n",
    "    if(sampling[\"Battery\"] == \"Full\"):\n",
    "        f+=1\n",
    "    if(sampling[\"Battery\"] == \"Empty\"):\n",
    "        e+=1\n",
    "    if(sampling[\"Battery\"] == \"Half\"):\n",
    "        h+=1\n",
    "print(\"battery is full\", round(f/1000*100,1), \"% of the time\")\n",
    "print(\"battery is half full\",round(h/1000*100,1), \"% of the time\")\n",
    "print(\"battery is empty\", round(e/1000*100,1), \"% of the time\")\n",
    "\n"
   ]
  }
 ],
 "metadata": {
  "kernelspec": {
   "display_name": "ispr",
   "language": "python",
   "name": "python3"
  },
  "language_info": {
   "codemirror_mode": {
    "name": "ipython",
    "version": 3
   },
   "file_extension": ".py",
   "mimetype": "text/x-python",
   "name": "python",
   "nbconvert_exporter": "python",
   "pygments_lexer": "ipython3",
   "version": "3.12.2"
  }
 },
 "nbformat": 4,
 "nbformat_minor": 2
}
