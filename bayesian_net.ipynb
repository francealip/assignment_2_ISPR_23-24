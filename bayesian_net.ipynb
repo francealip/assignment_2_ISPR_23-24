{
 "cells": [
  {
   "cell_type": "markdown",
   "metadata": {},
   "source": [
    "<h2>ASSIGNMENT 4: bayesian network from scratch<h2>\n",
    "\n",
    "<h4><b>Author</b>: Aliprandi Francesco<h4>\n"
   ]
  },
  {
   "cell_type": "code",
   "execution_count": 42,
   "metadata": {},
   "outputs": [],
   "source": [
    "class Node:\n",
    "    \n",
    "    def __init__(self, name, values, parents, tables):\n",
    "        self.name: str = name\n",
    "        self.values: list = values\n",
    "        self.parents: list = parents\n",
    "        self.childs: list = []\n",
    "        self.tables: dict = tables\n",
    "    \n",
    "    def get_name(self):\n",
    "        return self.name\n",
    "    \n",
    "    def get_values(self):\n",
    "        return self.values\n",
    "    \n",
    "    def get_parents(self):\n",
    "        return self.parents\n",
    "    \n",
    "    def get_childs(self):\n",
    "        return self.childs\n",
    "    \n",
    "    def get_tables(self):\n",
    "        return self.tables"
   ]
  },
  {
   "cell_type": "code",
   "execution_count": 43,
   "metadata": {},
   "outputs": [],
   "source": [
    "class Network:\n",
    "    def __init__(self, nodes):\n",
    "        self.nodes: list = nodes\n",
    "    \n",
    "    def add_node(self, node):\n",
    "        self.nodes.append(node)\n",
    "        \n",
    "    def get_nodes(self):    \n",
    "        return self.nodes"
   ]
  },
  {
   "cell_type": "markdown",
   "metadata": {},
   "source": [
    "Creation of the relative Bayesian network that models the ignition of an old car "
   ]
  },
  {
   "cell_type": "code",
   "execution_count": 44,
   "metadata": {},
   "outputs": [],
   "source": [
    "alternator = Node(\"Alternator\", [\"New\", \"Worn\",\"broken\"], [], {\"New\": 0.3, \"Worn\": 0.55, \"Broken\": 0.15})\n",
    "fanbelt = Node(\"Fanbelt\", [\"True\", \"False\"], [], {\"Good\": 0.73, \"Bad\": 0.27})\n",
    "starter = Node(\"Starter\", [\"True\", \"False\"], [], {\"True\": 0.58, \"False\": 0.42})\n",
    "sparks = Node(\"Sparks\", [\"True\", \"False\"], [], {\"True\": 0.68, \"False\": 0.32})\n",
    "fuel_pump = Node(\"Fuel_pump\", [\"True\", \"False\"], [], {\"True\": 0.77, \"False\": 0.23})\n",
    "fuel_level = Node(\"Fuel_level\", [\"Low\", \"Normal\", \"High\"], [], {\"Low\": 0.1, \"Normal\": 0.8, \"High\": 0.1})\n",
    "\n",
    "battery = Node(\"Battery\", [\"True\", \"False\"], [alternator, fanbelt], {(\"Alternator_New\",\"Belt_True\"): 0.85, (\"Alternator_New\",\"Belt_False\"): 0.27, (\"Alternator_Worn\",\"Belt_True\"): 0.73, (\"Alternator_Worn\",\"Belt_False\"): 0.24, (\"Alternator_Broken\",\"Belt_True\"): 0.52, (\"Alternator_Broken\",\"Belt_False\"): 0.11})\n",
    "dashboard = Node(\"Dashboard\", [\"True\",\"False\"], [battery, starter], {(\"Battery_True\",\"Starter_True\"): 0.92, (\"Battery_True\",\"Starter_False\"): 0.15, (\"Battery_False\",\"Starter_True\"): 0.2, (\"Battery_False\",\"Starter_False\"): 0.08})\n",
    "fuel_subsystem = Node(\"Fuel_subsystem\", [\"True\", \"False\"], [fuel_pump, fuel_level], {(\"Fuel_level_high\", \"Fuel_pump_True\"): 0.88, (\"Fuel_level_high\", \"Fuel_pump_False\"): 0.12, (\"Fuel_level_normal\", \"Fuel_pump_True\"): 0.9, (\"Fuel_level_normal\", \"Fuel_pump_False\"): 0.18, (\"Fuel_level_low\", \"Fuel_pump_True\"): 0.79, (\"Fuel_level_low\", \"Fuel_pump_False\"): 0.11})\n",
    "engine = Node(\"Engine\", [\"True\", \"False\"], [dashboard, sparks, fuel_subsystem], {(\"Dashboard_True\", \"Sparks_True\", \"Fuel_subsystem_True\"): 0.87, (\"Dashboard_True\", \"Sparks_True\", \"Fuel_subsystem_False\"): 0.22, (\"Dashboard_True\", \"Sparks_False\", \"Fuel_subsystem_True\"): 0.22, (\"Dashboard_True\", \"Sparks_False\", \"Fuel_subsystem_False\"): 0.07, (\"Dashboard_False\", \"Sparks_True\", \"Fuel_subsystem_True\"): 0.65, (\"Dashboard_False\", \"Sparks_True\", \"Fuel_subsystem_False\"): 0.17, (\"Dashboard_False\", \"Sparks_False\", \"Fuel_subsystem_True\"): 0.09, (\"Dashboard_False\", \"Sparks_False\", \"Fuel_subsystem_False\"): 0.01})\n"
   ]
  },
  {
   "cell_type": "code",
   "execution_count": 45,
   "metadata": {},
   "outputs": [],
   "source": [
    "car = Network([alternator, fanbelt, starter, sparks, fuel_pump, fuel_level, battery, dashboard, fuel_subsystem, engine])\n",
    "\n",
    "#create list of childs for each node\n",
    "for node in car.get_nodes():\n",
    "    for parent in node.get_parents():\n",
    "        parent.get_childs().append(node)\n",
    "        "
   ]
  }
 ],
 "metadata": {
  "kernelspec": {
   "display_name": "ispr",
   "language": "python",
   "name": "python3"
  },
  "language_info": {
   "codemirror_mode": {
    "name": "ipython",
    "version": 3
   },
   "file_extension": ".py",
   "mimetype": "text/x-python",
   "name": "python",
   "nbconvert_exporter": "python",
   "pygments_lexer": "ipython3",
   "version": "3.12.2"
  }
 },
 "nbformat": 4,
 "nbformat_minor": 2
}
