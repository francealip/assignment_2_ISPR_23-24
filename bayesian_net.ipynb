{
 "cells": [
  {
   "cell_type": "markdown",
   "metadata": {},
   "source": [
    "<h2>ASSIGNMENT 4: bayesian network from scratch<h2>\n",
    "\n",
    "<h4><b>Author</b>: Aliprandi Francesco<h4>\n"
   ]
  },
  {
   "cell_type": "markdown",
   "metadata": {},
   "source": [
    "<h4><b>1.1 Class Node</b></h4>"
   ]
  },
  {
   "cell_type": "code",
   "execution_count": 319,
   "metadata": {},
   "outputs": [],
   "source": [
    "import networkx as nx\n",
    "import numpy as np\n",
    "\n",
    "class Node:   \n",
    "    def __init__(self, name, values, parents, table):\n",
    "        self.name: str = name\n",
    "        self.values: list = values\n",
    "        self.parents: list = parents\n",
    "        self.childs: list = []\n",
    "        #to ensure parents sorted in CPTs\n",
    "        if len(self.parents) != 0:\n",
    "            self.table: dict = {tuple(sorted(k)): v for k, v in table.items()}\n",
    "        else:\n",
    "            self.table: dict = table\n",
    "    \n",
    "    def get_name(self):\n",
    "        return self.name\n",
    "    \n",
    "    def get_values(self):\n",
    "        return self.values\n",
    "    \n",
    "    def get_parents(self):\n",
    "        return self.parents\n",
    "    \n",
    "    def get_childs(self):\n",
    "        return self.childs\n",
    "    \n",
    "    def get_table(self):\n",
    "        return self.table\n",
    "    \n",
    "    def sample_value(self, parent_values):\n",
    "        #if node has no parents\n",
    "        if(len(parent_values) == 0):\n",
    "            values = list(self.table.keys())\n",
    "            prob = list(self.table.values())\n",
    "            return np.random.choice(values, p=prob)\n",
    "        #if node has parents and it's binomial\n",
    "        elif len(self.values) == 2:\n",
    "            values = [\"True\", \"False\"]\n",
    "            key = tuple(sorted(parent_values))\n",
    "            prob = self.table[key]\n",
    "            prob = [prob, 1-prob]\n",
    "            return np.random.choice(values, p=prob)\n",
    "                \n",
    "                \n",
    "    def get_sample(self, sampling):\n",
    "        #if node has no parents\n",
    "        if(len(self.parents) == 0):\n",
    "            return self.sample_value([])\n",
    "        #if node has parents\n",
    "        parents_value = []\n",
    "        for node in sampling.keys():\n",
    "            for parent in self.parents:\n",
    "                if node == parent.get_name():\n",
    "                    parents_value.append(node + \"_\" + sampling[node])\n",
    "        return self.sample_value(parents_value)\n",
    "               \n",
    "        "
   ]
  },
  {
   "cell_type": "markdown",
   "metadata": {},
   "source": [
    "<h4><b>1.2 Class Network</b></h4>"
   ]
  },
  {
   "cell_type": "code",
   "execution_count": 320,
   "metadata": {},
   "outputs": [],
   "source": [
    "class Network:\n",
    "    def __init__(self, nodes):\n",
    "        self.nodes: list = nodes\n",
    "    \n",
    "    def add_node(self, node):\n",
    "        self.nodes.append(node)\n",
    "        \n",
    "    def get_nodes(self):    \n",
    "        return self.nodes\n",
    "    \n",
    "    def topological_order(self):\n",
    "        graph = nx.DiGraph()\n",
    "        for node in self.nodes:\n",
    "            for child in node.get_childs():\n",
    "                graph.add_edges_from([(node,child)])\n",
    "        # Perform topological sort\n",
    "        topological_order = list(nx.topological_sort(graph))\n",
    "        return topological_order\n",
    "    \n",
    "    def ancestral_sampling(self):\n",
    "        sampling = {}\n",
    "        sorted_graph = self.topological_order()\n",
    "        for node in sorted_graph:\n",
    "            value = node.get_sample(sampling)\n",
    "            sampling[node.get_name()] = value          \n",
    "        return sampling"
   ]
  },
  {
   "cell_type": "markdown",
   "metadata": {},
   "source": [
    "<h4><b>1.3 Bayesian network creation</b></h4>"
   ]
  },
  {
   "cell_type": "markdown",
   "metadata": {},
   "source": [
    "Creation of the bayesian network that models the ignition of an old car, according to the following graph\n",
    "\n",
    "<img src=\"./image/bnet.png\" alt=\"car ignition network\" width=500 height=250>\n",
    "\n"
   ]
  },
  {
   "cell_type": "code",
   "execution_count": 321,
   "metadata": {},
   "outputs": [],
   "source": [
    "alternator = Node(\"Alternator\", [\"New\", \"Worn\",\"broken\"], [], {\"New\": 0.3, \"Worn\": 0.55, \"Broken\": 0.15})\n",
    "fanbelt = Node(\"Fanbelt\", [\"True\", \"False\"], [], {\"True\": 0.69, \"False\": 0.31})\n",
    "starter = Node(\"Starter\", [\"True\", \"False\"], [], {\"True\": 0.77, \"False\": 0.23})\n",
    "sparks = Node(\"Sparks\", [\"True\", \"False\"], [], {\"True\": 0.78, \"False\": 0.22})\n",
    "fuel_pump = Node(\"Fuel_pump\", [\"True\", \"False\"], [], {\"True\": 0.77, \"False\": 0.23})\n",
    "fuel_level = Node(\"Fuel_level\", [\"Low\", \"Normal\", \"High\"], [], {\"Low\": 0.1, \"Normal\": 0.8, \"High\": 0.1})\n",
    "\n",
    "battery = Node(\"Battery\", [\"True\", \"False\"], [alternator, fanbelt], {(\"Alternator_New\",\"Fanbelt_True\"): 0.85, (\"Alternator_New\",\"Fanbelt_False\"): 0.27, (\"Alternator_Worn\",\"Fanbelt_True\"): 0.73, (\"Alternator_Worn\",\"Fanbelt_False\"): 0.24, (\"Alternator_Broken\",\"Fanbelt_True\"): 0.52, (\"Alternator_Broken\",\"Fanbelt_False\"): 0.11})\n",
    "dashboard = Node(\"Dashboard\", [\"True\",\"False\"], [battery, starter], {(\"Battery_True\",\"Starter_True\"): 0.92, (\"Battery_True\",\"Starter_False\"): 0.15, (\"Battery_False\",\"Starter_True\"): 0.2, (\"Battery_False\",\"Starter_False\"): 0.08})\n",
    "fuel_subsystem = Node(\"Fuel_subsystem\", [\"True\", \"False\"], [fuel_pump, fuel_level], {(\"Fuel_level_High\", \"Fuel_pump_True\"): 0.88, (\"Fuel_level_High\", \"Fuel_pump_False\"): 0.12, (\"Fuel_level_Normal\", \"Fuel_pump_True\"): 0.9, (\"Fuel_level_Normal\", \"Fuel_pump_False\"): 0.18, (\"Fuel_level_Low\", \"Fuel_pump_True\"): 0.79, (\"Fuel_level_Low\", \"Fuel_pump_False\"): 0.11})\n",
    "engine = Node(\"Engine\", [\"True\", \"False\"], [dashboard, sparks, fuel_subsystem], {(\"Dashboard_True\", \"Fuel_subsystem_True\", \"Sparks_True\"): 0.92, (\"Dashboard_True\", \"Fuel_subsystem_True\", \"Sparks_False\"): 0.04, (\"Dashboard_True\", \"Fuel_subsystem_False\", \"Sparks_True\"): 0.38, (\"Dashboard_True\", \"Fuel_subsystem_False\", \"Sparks_False\"): 0.02, (\"Dashboard_False\", \"Fuel_subsystem_True\", \"Sparks_True\"): 0.44, (\"Dashboard_False\", \"Fuel_subsystem_True\", \"Sparks_False\"): 0.03, (\"Dashboard_False\", \"Fuel_subsystem_False\", \"Sparks_True\"): 0.07, (\"Dashboard_False\", \"Fuel_subsystem_False\", \"Sparks_False\"): 0.01})\n"
   ]
  },
  {
   "cell_type": "code",
   "execution_count": 322,
   "metadata": {},
   "outputs": [
    {
     "name": "stdout",
     "output_type": "stream",
     "text": [
      "car starts 43.53 % of the time\n"
     ]
    }
   ],
   "source": [
    "car = Network([alternator, fanbelt, starter, sparks, fuel_pump, fuel_level, battery, dashboard, fuel_subsystem, engine])\n",
    "\n",
    "#create list of childs for each node\n",
    "for node in car.get_nodes():\n",
    "    for parent in node.get_parents():\n",
    "        parent.get_childs().append(node)\n",
    "\n",
    "c = 0\n",
    "for i in range(10000):\n",
    "    sampling = car.ancestral_sampling()\n",
    "    if(sampling[\"Engine\"] == \"True\"):\n",
    "        c+=1\n",
    "print(\"car starts\", c/10000*100, \"% of the time\")\n"
   ]
  }
 ],
 "metadata": {
  "kernelspec": {
   "display_name": "ispr",
   "language": "python",
   "name": "python3"
  },
  "language_info": {
   "codemirror_mode": {
    "name": "ipython",
    "version": 3
   },
   "file_extension": ".py",
   "mimetype": "text/x-python",
   "name": "python",
   "nbconvert_exporter": "python",
   "pygments_lexer": "ipython3",
   "version": "3.12.2"
  }
 },
 "nbformat": 4,
 "nbformat_minor": 2
}
